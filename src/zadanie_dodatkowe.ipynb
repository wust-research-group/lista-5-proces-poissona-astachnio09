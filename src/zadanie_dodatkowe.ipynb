{
 "cells": [
  {
   "cell_type": "code",
   "execution_count": 1,
   "id": "fbaae2f6-a49a-41f8-906f-5460b4f66440",
   "metadata": {},
   "outputs": [],
   "source": [
    "import matplotlib.pyplot as plt\n",
    "import numpy as np\n",
    "import seaborn as sns\n",
    "from scipy.stats import gamma, poisson"
   ]
  },
  {
   "cell_type": "code",
   "execution_count": 2,
   "id": "03f950d9-89d0-4a48-858f-2626121e0e40",
   "metadata": {},
   "outputs": [],
   "source": [
    "def poiss_gen_1(lamb, size):\n",
    "    i = 0\n",
    "    P = np.zeros(size)\n",
    "    while i < size:\n",
    "        n = 1\n",
    "        a = 1\n",
    "        while True:\n",
    "            u = np.random.uniform(0, 1)\n",
    "            a = a * u\n",
    "            if a < np.exp(-lamb):\n",
    "                P[i] = n - 1\n",
    "                i += 1\n",
    "                break\n",
    "            else:\n",
    "                n += 1\n",
    "    return P"
   ]
  },
  {
   "cell_type": "code",
   "execution_count": 3,
   "id": "d3d3c7ef-a0a4-4501-8b23-967fc34a2ff9",
   "metadata": {},
   "outputs": [],
   "source": [
    "def poiss_gen_2(lamb, size):\n",
    "    i = 0\n",
    "    P = np.zeros(size)\n",
    "    while i < size:\n",
    "        m = np.floor(0.875 * lamb)\n",
    "        y = gamma.rvs(m, scale=1)\n",
    "        if y <= lamb:\n",
    "            z = poiss_gen_1(lamb - y, 1)\n",
    "            P[i] = m + z[0]\n",
    "        else:\n",
    "            P[i] = np.random.binomial(m - 1, lamb / y)\n",
    "        i += 1\n",
    "    return P"
   ]
  },
  {
   "cell_type": "code",
   "execution_count": 4,
   "id": "36613764-617f-4092-a8a3-8792bedc6ccd",
   "metadata": {},
   "outputs": [],
   "source": [
    "p1 = poiss_gen_1(4, 10000)\n",
    "p2 = poiss_gen_2(4, 10000)"
   ]
  },
  {
   "cell_type": "code",
   "execution_count": 5,
   "id": "d553a3ca-8fa0-462b-833f-17e27759ae8d",
   "metadata": {},
   "outputs": [
    {
     "name": "stderr",
     "output_type": "stream",
     "text": [
      "/home/aga/miniconda3/envs/symulacje/lib/python3.12/site-packages/seaborn/_oldcore.py:1119: FutureWarning: use_inf_as_na option is deprecated and will be removed in a future version. Convert inf values to NaN before operating instead.\n",
      "  with pd.option_context('mode.use_inf_as_na', True):\n",
      "/home/aga/miniconda3/envs/symulacje/lib/python3.12/site-packages/seaborn/_oldcore.py:1119: FutureWarning: use_inf_as_na option is deprecated and will be removed in a future version. Convert inf values to NaN before operating instead.\n",
      "  with pd.option_context('mode.use_inf_as_na', True):\n"
     ]
    },
    {
     "data": {
      "text/plain": [
       "[<matplotlib.lines.Line2D at 0x7f999cbd7890>]"
      ]
     },
     "execution_count": 5,
     "metadata": {},
     "output_type": "execute_result"
    },
    {
     "data": {
      "image/png": "[encoded data removed]",
      "text/plain": [
       "<Figure size 640x480 with 1 Axes>"
      ]
     },
     "metadata": {},
     "output_type": "display_data"
    }
   ],
   "source": [
    "sns.ecdfplot(p1, color=\"r\")\n",
    "sns.ecdfplot(p2)\n",
    "t = np.arange(0, 10, 0.1)\n",
    "plt.step(t, poisson.cdf(t, 4))"
   ]
  }
 ],
 "metadata": {
  "kernelspec": {
   "display_name": "Python 3 (ipykernel)",
   "language": "python",
   "name": "python3"
  },
  "language_info": {
   "codemirror_mode": {
    "name": "ipython",
    "version": 3
   },
   "file_extension": ".py",
   "mimetype": "text/x-python",
   "name": "python",
   "nbconvert_exporter": "python",
   "pygments_lexer": "ipython3",
   "version": "3.12.2"
  }
 },
 "nbformat": 4,
 "nbformat_minor": 5
}
